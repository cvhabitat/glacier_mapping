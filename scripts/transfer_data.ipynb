{
 "cells": [
  {
   "cell_type": "markdown",
   "metadata": {},
   "source": [
    "This notebook creates training patches for the landcover transfer learning task. We assume the raw landcover rasters have already been downloaded using the `landcover.ipynb` notebook. The overall process has the form\n",
    "\n",
    "1. Build a VRT from all the landcover tiles\n",
    "\n",
    "2. For each input x (LE7 imagery) tile...\n",
    "\n",
    "  a. Read a window of the y (landcover) VRT with the same lat / long bounds as the x tile\n",
    "  \n",
    "  b. Extract a patch of size 512 x 512 from x, which is the dimension used for model trainig \n",
    "\n",
    "3. For each patch of size 512 x 512 from x ...\n",
    "\n",
    "  a. Determine the corresponding pixel coordinates in y. Not exact alignment, because x and y have different spatial resolutions\n",
    "\n",
    "  b. Linearly interpolate y onto the dimension of x\n",
    "  \n",
    "  c. Write both x and y to file\n",
    "  \n",
    "4. Shuffle those into training, development, and test datasets. These will be preprocessed and then used for training.\n",
    "\n",
    "Note that we are not writing any special metadata to file. I assume that we do not need to filter, since most regions will have at least a few interesting classes (e.g., forest, water)."
   ]
  },
  {
   "cell_type": "code",
   "execution_count": null,
   "metadata": {},
   "outputs": [],
   "source": [
    "import rasterio\n",
    "import matplotlib.pyplot as plt\n",
    "import glacier_mapping.data.transfer as gt\n",
    "from pathlib import Path\n",
    "import numpy as np\n",
    "import shutil\n",
    "%matplotlib inline\n",
    "\n",
    "landcover_dir = Path(\"/datadrive/glaciers/landcover\")\n",
    "input_folder = Path(\"/datadrive/glaciers/unique_tiles/warped\")\n",
    "out_dir = Path(\"/datadrive/glaciers/landcover/patches/\")\n",
    "\n",
    "if out_dir.exists():\n",
    "    shutil.rmtree(out_dir)\n",
    "    \n",
    "out_dir.mkdir()"
   ]
  },
  {
   "cell_type": "code",
   "execution_count": null,
   "metadata": {},
   "outputs": [],
   "source": [
    "import subprocess\n",
    "\n",
    "def vrt_from_dir(input_dir, output_path=\"./output.vrt\", **kwargs):\n",
    "    inputs = [f for f in input_dir.glob(\"*.tif*\")]\n",
    "    subprocess.call([\"gdalbuildvrt\", \"-o\", output_path] + inputs)\n",
    "\n",
    "vrt_from_dir(landcover_dir, landcover_dir / \"landcover.vrt\")\n",
    "landcover = rasterio.open(landcover_dir / \"landcover.vrt\")"
   ]
  },
  {
   "cell_type": "code",
   "execution_count": null,
   "metadata": {},
   "outputs": [],
   "source": [
    "input_paths = list(Path(input_folder).glob(\"*.tif*\"))\n",
    "\n",
    "SUBSET = False\n",
    "if SUBSET is not False:\n",
    "    input_paths = input_paths[:SUBSET]\n",
    "\n",
    "# loop over tiles and generate training pairs\n",
    "for i, p in enumerate(input_paths):\n",
    "    tilef = rasterio.open(p)\n",
    "    pairs = gt.patch_tile(tilef, landcover)\n",
    "    for j, (x, y) in enumerate(pairs):\n",
    "        np.save(out_dir / f\"x_{i:03}-{j:03}.npy\", x)\n",
    "        np.save(out_dir / f\"y_{i:03}-{j:03}.npy\", y)"
   ]
  },
  {
   "cell_type": "code",
   "execution_count": null,
   "metadata": {},
   "outputs": [],
   "source": []
  }
 ],
 "metadata": {
  "kernelspec": {
   "display_name": "glaciers",
   "language": "python",
   "name": "glaciers"
  },
  "language_info": {
   "codemirror_mode": {
    "name": "ipython",
    "version": 3
   },
   "file_extension": ".py",
   "mimetype": "text/x-python",
   "name": "python",
   "nbconvert_exporter": "python",
   "pygments_lexer": "ipython3",
   "version": "3.7.0"
  }
 },
 "nbformat": 4,
 "nbformat_minor": 4
}
